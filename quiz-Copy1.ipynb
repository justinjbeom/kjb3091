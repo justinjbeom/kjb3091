{
 "cells": [
  {
   "cell_type": "markdown",
   "metadata": {},
   "source": [
    "# Semantic Segmentation Quiz\n",
    "\n",
    "### Maintainer : Wonkwang Lee (wonkwang.lee@kaist.ac.kr)"
   ]
  },
  {
   "cell_type": "code",
   "execution_count": 1,
   "metadata": {},
   "outputs": [],
   "source": [
    "import tensorflow as tf\n",
    "from tensorflow.keras import datasets, layers, models\n",
    "\n",
    "sess = tf.InteractiveSession()\n",
    "x = tf.placeholder(tf.float32, shape=(1, 224, 224, 3))\n",
    "label = tf.broadcast_to(tf.expand_dims(tf.expand_dims(tf.one_hot(1, 21), -1), -1), (1, 21, 224, 224))"
   ]
  },
  {
   "cell_type": "markdown",
   "metadata": {},
   "source": [
    "# Quiz 1: Building toy FCN blocks\n",
    "\n",
    "![FCN](http://deeplearning.net/tutorial/_images/cat_segmentation.png)\n",
    "\n",
    "\n",
    "## Instruction:\n",
    "Build toy FCN blocks using `models.Sequential()`, `layers.Conv2D`, `layers.Maxpooling2D`, `layer.UpSampling2D`. <br>\n",
    "Please refer to the printed output for `fcn.summary()`\n",
    "\n",
    "#### hint1 : https://www.tensorflow.org/beta/tutorials/images/intro_to_cnns\n",
    "#### hint2 : https://keras.io/layers/convolutional/#conv2d\n",
    "#### hint3 : https://keras.io/layers/pooling/#maxpooling2d\n",
    "#### hint4 : https://keras.io/layers/convolutional/#upsampling2d"
   ]
  },
  {
   "cell_type": "code",
   "execution_count": 52,
   "metadata": {},
   "outputs": [],
   "source": [
    "def FCN():\n",
    "    model = models.Sequential()\n",
    "    model.add(layers.Conv2D(96, (3, 3), activation='relu', padding='same', input_shape=(224, 224, 3)))\n",
    "    ''' implement remaining modules here '''\n",
    "    #model.add(...)\n",
    "    model.add(layers.MaxPooling2D((2,2)))\n",
    "    model.add(layers.Conv2D(256, (3, 3), activation='relu', padding='same'))\n",
    "    model.add(layers.MaxPooling2D((2,2)))\n",
    "    model.add(layers.Conv2D(384, (3, 3), activation='relu', padding='same'))\n",
    "    model.add(layers.Conv2D(384, (3, 3), activation='relu', padding='same'))\n",
    "    model.add(layers.Conv2D(256, (3, 3), activation='relu', padding='same'))\n",
    "    model.add(layers.MaxPooling2D((2,2)))\n",
    "    model.add(layers.Conv2D(4096, (3, 3), activation='relu', padding='same'))\n",
    "    model.add(layers.Conv2D(4096, (3, 3), activation='relu', padding='same'))\n",
    "    model.add(layers.Conv2D(21, (3,3), activation='relu', padding='same'))\n",
    "    model.add(layers.UpSampling2D((8, 8)))\n",
    "    return model\n",
    "\n",
    "\n"
   ]
  },
  {
   "cell_type": "code",
   "execution_count": 53,
   "metadata": {},
   "outputs": [
    {
     "name": "stdout",
     "output_type": "stream",
     "text": [
      "Model: \"sequential_24\"\n",
      "_________________________________________________________________\n",
      "Layer (type)                 Output Shape              Param #   \n",
      "=================================================================\n",
      "conv2d_86 (Conv2D)           (None, 224, 224, 96)      2688      \n",
      "_________________________________________________________________\n",
      "max_pooling2d_43 (MaxPooling (None, 112, 112, 96)      0         \n",
      "_________________________________________________________________\n",
      "conv2d_87 (Conv2D)           (None, 112, 112, 256)     221440    \n",
      "_________________________________________________________________\n",
      "max_pooling2d_44 (MaxPooling (None, 56, 56, 256)       0         \n",
      "_________________________________________________________________\n",
      "conv2d_88 (Conv2D)           (None, 56, 56, 384)       885120    \n",
      "_________________________________________________________________\n",
      "conv2d_89 (Conv2D)           (None, 56, 56, 384)       1327488   \n",
      "_________________________________________________________________\n",
      "conv2d_90 (Conv2D)           (None, 56, 56, 256)       884992    \n",
      "_________________________________________________________________\n",
      "max_pooling2d_45 (MaxPooling (None, 28, 28, 256)       0         \n",
      "_________________________________________________________________\n",
      "conv2d_91 (Conv2D)           (None, 28, 28, 4096)      9441280   \n",
      "_________________________________________________________________\n",
      "conv2d_92 (Conv2D)           (None, 28, 28, 4096)      150999040 \n",
      "_________________________________________________________________\n",
      "conv2d_93 (Conv2D)           (None, 28, 28, 21)        774165    \n",
      "_________________________________________________________________\n",
      "up_sampling2d (UpSampling2D) (None, 224, 224, 21)      0         \n",
      "=================================================================\n",
      "Total params: 164,536,213\n",
      "Trainable params: 164,536,213\n",
      "Non-trainable params: 0\n",
      "_________________________________________________________________\n"
     ]
    }
   ],
   "source": [
    "fcn = FCN()\n",
    "fcn.summary()"
   ]
  },
  {
   "cell_type": "code",
   "execution_count": 55,
   "metadata": {},
   "outputs": [
    {
     "name": "stdout",
     "output_type": "stream",
     "text": [
      "(1, 224, 224, 3)\n"
     ]
    }
   ],
   "source": [
    "print(x.shape)"
   ]
  },
  {
   "cell_type": "code",
   "execution_count": 56,
   "metadata": {},
   "outputs": [
    {
     "data": {
      "text/plain": [
       "<tf.Tensor 'sequential_25/up_sampling2d_1/ResizeNearestNeighbor:0' shape=(1, 224, 224, 21) dtype=float32>"
      ]
     },
     "execution_count": 56,
     "metadata": {},
     "output_type": "execute_result"
    }
   ],
   "source": [
    "prediction = fcn(x)\n",
    "prediction"
   ]
  },
  {
   "cell_type": "markdown",
   "metadata": {},
   "source": [
    "---"
   ]
  },
  {
   "cell_type": "markdown",
   "metadata": {},
   "source": [
    "# Quiz 2: Preprocess data to calculate cross-entropy loss\n",
    "\n",
    "\n",
    "#### hint1 : https://www.tensorflow.org/api_docs/python/tf/losses/softmax_cross_entropy\n",
    "#### hint2 : https://www.tensorflow.org/api_docs/python/tf/transpose"
   ]
  },
  {
   "cell_type": "code",
   "execution_count": 73,
   "metadata": {},
   "outputs": [],
   "source": [
    "def preprocess_label(label):\n",
    "    ''' write down proper pre-processing operation here'''\n",
    "    #label = ...\n",
    "    label = tf.transpose(label, perm=(0, 2, 3, 1))\n",
    "    return label\n",
    "\n",
    "def calculate_loss(prediction, label):\n",
    "    loss = tf.losses.softmax_cross_entropy(label, prediction)\n",
    "    return loss"
   ]
  },
  {
   "cell_type": "code",
   "execution_count": 74,
   "metadata": {},
   "outputs": [
    {
     "name": "stdout",
     "output_type": "stream",
     "text": [
      "prediction shape : (1, 224, 224, 21)\n",
      "label shape : (1, 21, 224, 224)\n"
     ]
    }
   ],
   "source": [
    "print('prediction shape :', prediction.shape)\n",
    "print('label shape :', label.shape)"
   ]
  },
  {
   "cell_type": "code",
   "execution_count": 75,
   "metadata": {},
   "outputs": [
    {
     "name": "stdout",
     "output_type": "stream",
     "text": [
      "label shape : (1, 224, 224, 21)\n"
     ]
    }
   ],
   "source": [
    "label = preprocess_label(label)\n",
    "print('label shape :', label.shape)"
   ]
  },
  {
   "cell_type": "code",
   "execution_count": 76,
   "metadata": {},
   "outputs": [
    {
     "name": "stderr",
     "output_type": "stream",
     "text": [
      "W0801 16:04:21.529071 140231406806848 deprecation.py:323] From /home/cmo05/anaconda3/lib/python3.7/site-packages/tensorflow/python/ops/losses/losses_impl.py:121: add_dispatch_support.<locals>.wrapper (from tensorflow.python.ops.array_ops) is deprecated and will be removed in a future version.\n",
      "Instructions for updating:\n",
      "Use tf.where in 2.0, which has the same broadcast rule as np.where\n"
     ]
    },
    {
     "data": {
      "text/plain": [
       "<tf.Tensor 'softmax_cross_entropy_loss_2/value:0' shape=() dtype=float32>"
      ]
     },
     "execution_count": 76,
     "metadata": {},
     "output_type": "execute_result"
    }
   ],
   "source": [
    "loss = calculate_loss(prediction, label)\n",
    "loss"
   ]
  },
  {
   "cell_type": "markdown",
   "metadata": {},
   "source": [
    "---"
   ]
  },
  {
   "cell_type": "markdown",
   "metadata": {},
   "source": [
    "# Quiz 3: Building toy DeconvNet\n",
    "\n",
    "![deconvnet](https://miro.medium.com/max/1400/1*LW8Anre45o9nfamxIVTY8Q.png)\n",
    "\n",
    "## Instruction:\n",
    "Build toy DeconvNet blocks using `models.Sequential()`, `layers.Conv2D`, `layers.Maxpooling2D`, `layer.Conv2DTranspose`. <br>\n",
    "Please refer to the printed output for `deconvnet.summary()` <br>\n",
    "<br>\n",
    "Note: we use `layer.Conv2DTranspose` for upsampling feature maps instead of un-pooling operation"
   ]
  },
  {
   "cell_type": "code",
   "execution_count": 117,
   "metadata": {},
   "outputs": [],
   "source": [
    "def DeconvNet():\n",
    "    model = models.Sequential()\n",
    "    model.add(layers.Conv2D(32, (3, 3), activation='relu', padding='same', input_shape=(224, 224, 3)))\n",
    "    ''' implement remaining modules here '''\n",
    "    #model.add(...)\n",
    "    model.add(layers.MaxPooling2D(2,2))\n",
    "    model.add(layers.Conv2D(64, (3, 3), activation='relu', padding='same'))\n",
    "    model.add(layers.MaxPooling2D(2,2))\n",
    "    model.add(layers.Conv2D(128, (3, 3), activation='relu', padding='same'))\n",
    "    model.add(layers.MaxPooling2D(2,2))\n",
    "    model.add(layers.Conv2D(256, (3, 3), activation='relu', padding='same'))\n",
    "    model.add(layers.MaxPooling2D(2,2))\n",
    "    model.add(layers.Conv2D(512, (3, 3), activation='relu', padding='same'))\n",
    "    model.add(layers.MaxPooling2D(2,2))\n",
    "    model.add(layers.Conv2DTranspose(512, (3,3), strides=2, activation='relu', padding='same'))\n",
    "    model.add(layers.Conv2DTranspose(256, (3,3), strides=2, activation='relu', padding='same'))\n",
    "    model.add(layers.Conv2DTranspose(128, (3,3), strides=2, activation='relu', padding='same'))\n",
    "    model.add(layers.Conv2DTranspose(64, (3,3), strides=2, activation='relu', padding='same'))   \n",
    "    model.add(layers.Conv2DTranspose(21, (3,3), strides=2, activation='relu', padding='same'))    \n",
    "    return model"
   ]
  },
  {
   "cell_type": "code",
   "execution_count": 118,
   "metadata": {},
   "outputs": [
    {
     "name": "stdout",
     "output_type": "stream",
     "text": [
      "Model: \"sequential_44\"\n",
      "_________________________________________________________________\n",
      "Layer (type)                 Output Shape              Param #   \n",
      "=================================================================\n",
      "conv2d_182 (Conv2D)          (None, 224, 224, 32)      896       \n",
      "_________________________________________________________________\n",
      "max_pooling2d_126 (MaxPoolin (None, 112, 112, 32)      0         \n",
      "_________________________________________________________________\n",
      "conv2d_183 (Conv2D)          (None, 112, 112, 64)      18496     \n",
      "_________________________________________________________________\n",
      "max_pooling2d_127 (MaxPoolin (None, 56, 56, 64)        0         \n",
      "_________________________________________________________________\n",
      "conv2d_184 (Conv2D)          (None, 56, 56, 128)       73856     \n",
      "_________________________________________________________________\n",
      "max_pooling2d_128 (MaxPoolin (None, 28, 28, 128)       0         \n",
      "_________________________________________________________________\n",
      "conv2d_185 (Conv2D)          (None, 28, 28, 256)       295168    \n",
      "_________________________________________________________________\n",
      "max_pooling2d_129 (MaxPoolin (None, 14, 14, 256)       0         \n",
      "_________________________________________________________________\n",
      "conv2d_186 (Conv2D)          (None, 14, 14, 512)       1180160   \n",
      "_________________________________________________________________\n",
      "max_pooling2d_130 (MaxPoolin (None, 7, 7, 512)         0         \n",
      "_________________________________________________________________\n",
      "conv2d_transpose_11 (Conv2DT (None, 14, 14, 512)       2359808   \n",
      "_________________________________________________________________\n",
      "conv2d_transpose_12 (Conv2DT (None, 28, 28, 256)       1179904   \n",
      "_________________________________________________________________\n",
      "conv2d_transpose_13 (Conv2DT (None, 56, 56, 128)       295040    \n",
      "_________________________________________________________________\n",
      "conv2d_transpose_14 (Conv2DT (None, 112, 112, 64)      73792     \n",
      "_________________________________________________________________\n",
      "conv2d_transpose_15 (Conv2DT (None, 224, 224, 21)      12117     \n",
      "=================================================================\n",
      "Total params: 5,489,237\n",
      "Trainable params: 5,489,237\n",
      "Non-trainable params: 0\n",
      "_________________________________________________________________\n"
     ]
    }
   ],
   "source": [
    "deconvnet = DeconvNet()\n",
    "deconvnet.summary()"
   ]
  },
  {
   "cell_type": "code",
   "execution_count": 119,
   "metadata": {},
   "outputs": [
    {
     "data": {
      "text/plain": [
       "<tf.Tensor 'sequential_44/conv2d_transpose_15/Relu:0' shape=(1, 224, 224, 21) dtype=float32>"
      ]
     },
     "execution_count": 119,
     "metadata": {},
     "output_type": "execute_result"
    }
   ],
   "source": [
    "prediction = deconvnet(x)\n",
    "prediction"
   ]
  },
  {
   "cell_type": "markdown",
   "metadata": {},
   "source": [
    "---"
   ]
  },
  {
   "cell_type": "markdown",
   "metadata": {},
   "source": [
    "# Quiz 4 : Feature Pyramid\n",
    "\n",
    "<img src=\"toy_fpn.png\" width=\"600\">\n",
    "\n",
    "## Instruction\n",
    "Implement `upsample_and_merge` function\n",
    "\n",
    "#### hint1 : https://www.tensorflow.org/api_docs/python/tf/concat"
   ]
  },
  {
   "cell_type": "code",
   "execution_count": 123,
   "metadata": {},
   "outputs": [],
   "source": [
    "conv_block1 = models.Sequential()\n",
    "conv_block1.add(layers.Conv2D(32, (3, 3), activation='relu', padding='same', input_shape=(224, 224, 3)))\n",
    "conv_block1.add(layers.MaxPool2D((2,2)))\n",
    "\n",
    "conv_block2 = models.Sequential()\n",
    "conv_block2.add(layers.Conv2D(64, (3, 3), activation='relu', padding='same'))\n",
    "conv_block2.add(layers.MaxPool2D((2,2)))"
   ]
  },
  {
   "cell_type": "code",
   "execution_count": 124,
   "metadata": {},
   "outputs": [
    {
     "data": {
      "text/plain": [
       "<tf.Tensor 'sequential_47/max_pooling2d_133/MaxPool:0' shape=(1, 112, 112, 32) dtype=float32>"
      ]
     },
     "execution_count": 124,
     "metadata": {},
     "output_type": "execute_result"
    }
   ],
   "source": [
    "out1 = conv_block1(x)\n",
    "out1"
   ]
  },
  {
   "cell_type": "code",
   "execution_count": 125,
   "metadata": {},
   "outputs": [
    {
     "data": {
      "text/plain": [
       "<tf.Tensor 'sequential_48/max_pooling2d_134/MaxPool:0' shape=(1, 56, 56, 64) dtype=float32>"
      ]
     },
     "execution_count": 125,
     "metadata": {},
     "output_type": "execute_result"
    }
   ],
   "source": [
    "out2 = conv_block2(out1)\n",
    "out2"
   ]
  },
  {
   "cell_type": "code",
   "execution_count": 138,
   "metadata": {},
   "outputs": [],
   "source": [
    "def upsample_and_merge(small, large):\n",
    "    '''write down codes here'''\n",
    "    # merged = ...\n",
    "    small = tf.keras.layers.UpSampling2D((2,2), interpolation='nearest')(small)\n",
    "    merged = tf.concat([small, large], 3)\n",
    "    return merged"
   ]
  },
  {
   "cell_type": "code",
   "execution_count": 139,
   "metadata": {},
   "outputs": [
    {
     "data": {
      "text/plain": [
       "<tf.Tensor 'concat_2:0' shape=(1, 112, 112, 96) dtype=float32>"
      ]
     },
     "execution_count": 139,
     "metadata": {},
     "output_type": "execute_result"
    }
   ],
   "source": [
    "upsample_and_merge(out2, out1)"
   ]
  },
  {
   "cell_type": "markdown",
   "metadata": {},
   "source": [
    "---"
   ]
  },
  {
   "cell_type": "markdown",
   "metadata": {},
   "source": [
    "# Quiz 5 : Building blocks with atrous convolution\n",
    "\n",
    "![fcn_atrous](fcn_atrous.png)\n",
    "#### hint1 : https://keras.io/layers/convolutional/#conv2d"
   ]
  },
  {
   "cell_type": "code",
   "execution_count": 152,
   "metadata": {},
   "outputs": [],
   "source": [
    "def Conv_Atrous():\n",
    "    model = models.Sequential()\n",
    "    ''' implement remaining modules here. note that the last four modules should be atrous convs'''\n",
    "    model.add(layers.Conv2D(32, (3, 3), activation='relu', padding='same', input_shape=(224, 224, 3)))\n",
    "    #model.add(...)\n",
    "    #...\n",
    "    # add atrous convolution with rate 2\n",
    "    #model.add(...)\n",
    "    # add atrous convolution with rate 4\n",
    "    #model.add(...)\n",
    "    # add atrous convolution with rate 8\n",
    "    #model.add(...)\n",
    "    # add atrous convolution with rate 16\n",
    "    #model.add(...)\n",
    "    model.add(layers.MaxPooling2D((2,2)))\n",
    "    model.add(layers.Conv2D(64, (3, 3), activation='relu', padding='same'))\n",
    "    model.add(layers.MaxPooling2D((2,2)))\n",
    "    model.add(layers.Conv2D(128, (3, 3), activation='relu', padding='same'))\n",
    "    model.add(layers.MaxPooling2D((2,2)))    \n",
    "    model.add(layers.Conv2D(256, (3, 3), activation='relu', padding='same'))\n",
    "    model.add(layers.MaxPooling2D((2,2)))      \n",
    "    model.add(layers.Conv2D(512, (3, 3), activation='relu', padding='same'))\n",
    "    model.add(layers.MaxPooling2D((2,2)))   \n",
    "    model.add(layers.Conv2D(512, (3, 3), dilation_rate=(2), activation='relu', padding='same'))  \n",
    "    model.add(layers.Conv2D(512, (3, 3), dilation_rate=(4), activation='relu', padding='same'))     \n",
    "    model.add(layers.Conv2D(512, (3, 3), dilation_rate=(8), activation='relu', padding='same'))      \n",
    "    model.add(layers.Conv2D(512, (3, 3), dilation_rate=(16), activation='relu', padding='same'))        \n",
    "    return model"
   ]
  },
  {
   "cell_type": "code",
   "execution_count": 153,
   "metadata": {},
   "outputs": [
    {
     "name": "stdout",
     "output_type": "stream",
     "text": [
      "Model: \"sequential_59\"\n",
      "_________________________________________________________________\n",
      "Layer (type)                 Output Shape              Param #   \n",
      "=================================================================\n",
      "conv2d_228 (Conv2D)          (None, 224, 224, 32)      896       \n",
      "_________________________________________________________________\n",
      "max_pooling2d_166 (MaxPoolin (None, 112, 112, 32)      0         \n",
      "_________________________________________________________________\n",
      "conv2d_229 (Conv2D)          (None, 112, 112, 64)      18496     \n",
      "_________________________________________________________________\n",
      "max_pooling2d_167 (MaxPoolin (None, 56, 56, 64)        0         \n",
      "_________________________________________________________________\n",
      "conv2d_230 (Conv2D)          (None, 56, 56, 128)       73856     \n",
      "_________________________________________________________________\n",
      "max_pooling2d_168 (MaxPoolin (None, 28, 28, 128)       0         \n",
      "_________________________________________________________________\n",
      "conv2d_231 (Conv2D)          (None, 28, 28, 256)       295168    \n",
      "_________________________________________________________________\n",
      "max_pooling2d_169 (MaxPoolin (None, 14, 14, 256)       0         \n",
      "_________________________________________________________________\n",
      "conv2d_232 (Conv2D)          (None, 14, 14, 512)       1180160   \n",
      "_________________________________________________________________\n",
      "max_pooling2d_170 (MaxPoolin (None, 7, 7, 512)         0         \n",
      "_________________________________________________________________\n",
      "conv2d_233 (Conv2D)          (None, 7, 7, 512)         2359808   \n",
      "_________________________________________________________________\n",
      "conv2d_234 (Conv2D)          (None, 7, 7, 512)         2359808   \n",
      "_________________________________________________________________\n",
      "conv2d_235 (Conv2D)          (None, 7, 7, 512)         2359808   \n",
      "_________________________________________________________________\n",
      "conv2d_236 (Conv2D)          (None, 7, 7, 512)         2359808   \n",
      "=================================================================\n",
      "Total params: 11,007,808\n",
      "Trainable params: 11,007,808\n",
      "Non-trainable params: 0\n",
      "_________________________________________________________________\n"
     ]
    }
   ],
   "source": [
    "conv_atrous = Conv_Atrous()\n",
    "conv_atrous.summary()"
   ]
  },
  {
   "cell_type": "markdown",
   "metadata": {},
   "source": [
    "---"
   ]
  },
  {
   "cell_type": "markdown",
   "metadata": {},
   "source": [
    "# Quiz 6 : Building toy DeepLab\n",
    "\n",
    "![aspp](aspp.png)\n",
    "\n",
    "## Instruction\n",
    "Complete ``DeepLab_Front`, conv_with_dilation_rate2`, `conv_with_dilation_rate4`, `conv_with_dilation_rate8`, `conv_with_dilation_rate16`, and `aspp`, where `aspp` is simply computed by concatenating all the `feature_map_rateX`"
   ]
  },
  {
   "cell_type": "code",
   "execution_count": 154,
   "metadata": {},
   "outputs": [],
   "source": [
    "def DeepLab_Front():\n",
    "    model = models.Sequential()\n",
    "    model.add(layers.Conv2D(32, (3, 3), activation='relu', padding='same', input_shape=(224, 224, 3)))\n",
    "    ''' implement remaining modules here '''\n",
    "    #model.add(...)\n",
    "    model.add(layers.MaxPooling2D((2,2)))    \n",
    "    model.add(layers.Conv2D(64, (3, 3), activation='relu', padding='same')) \n",
    "    model.add(layers.MaxPooling2D((2,2)))    \n",
    "    model.add(layers.Conv2D(128, (3, 3), activation='relu', padding='same'))      \n",
    "    model.add(layers.MaxPooling2D((2,2)))    \n",
    "    model.add(layers.Conv2D(256, (3, 3), activation='relu', padding='same'))      \n",
    "    model.add(layers.MaxPooling2D((2,2)))    \n",
    "    model.add(layers.Conv2D(512, (3, 3), activation='relu', padding='same'))       \n",
    "    return model"
   ]
  },
  {
   "cell_type": "code",
   "execution_count": 155,
   "metadata": {},
   "outputs": [
    {
     "name": "stdout",
     "output_type": "stream",
     "text": [
      "Model: \"sequential_60\"\n",
      "_________________________________________________________________\n",
      "Layer (type)                 Output Shape              Param #   \n",
      "=================================================================\n",
      "conv2d_237 (Conv2D)          (None, 224, 224, 32)      896       \n",
      "_________________________________________________________________\n",
      "max_pooling2d_171 (MaxPoolin (None, 112, 112, 32)      0         \n",
      "_________________________________________________________________\n",
      "conv2d_238 (Conv2D)          (None, 112, 112, 64)      18496     \n",
      "_________________________________________________________________\n",
      "max_pooling2d_172 (MaxPoolin (None, 56, 56, 64)        0         \n",
      "_________________________________________________________________\n",
      "conv2d_239 (Conv2D)          (None, 56, 56, 128)       73856     \n",
      "_________________________________________________________________\n",
      "max_pooling2d_173 (MaxPoolin (None, 28, 28, 128)       0         \n",
      "_________________________________________________________________\n",
      "conv2d_240 (Conv2D)          (None, 28, 28, 256)       295168    \n",
      "_________________________________________________________________\n",
      "max_pooling2d_174 (MaxPoolin (None, 14, 14, 256)       0         \n",
      "_________________________________________________________________\n",
      "conv2d_241 (Conv2D)          (None, 14, 14, 512)       1180160   \n",
      "=================================================================\n",
      "Total params: 1,568,576\n",
      "Trainable params: 1,568,576\n",
      "Non-trainable params: 0\n",
      "_________________________________________________________________\n"
     ]
    }
   ],
   "source": [
    "front = DeepLab_Front()\n",
    "front.summary()"
   ]
  },
  {
   "cell_type": "code",
   "execution_count": 161,
   "metadata": {},
   "outputs": [],
   "source": [
    "''' write down codes here '''\n",
    "#conv_with_dilation_rate2 = ...\n",
    "#conv_with_dilation_rate4 = ...\n",
    "#conv_with_dilation_rate8 = ...\n",
    "#conv_with_dilation_rate16 = ...\n",
    "conv_with_dilation_rate2 = layers.Conv2D(512, (3, 3), dilation_rate=(2), activation='relu', padding='same')\n",
    "conv_with_dilation_rate4 = layers.Conv2D(512, (3, 3), dilation_rate=(4), activation='relu', padding='same')\n",
    "conv_with_dilation_rate8 = layers.Conv2D(512, (3, 3), dilation_rate=(8), activation='relu', padding='same')\n",
    "conv_with_dilation_rate16 = layers.Conv2D(512, (3, 3), dilation_rate=(16), activation='relu', padding='same')"
   ]
  },
  {
   "cell_type": "code",
   "execution_count": 162,
   "metadata": {},
   "outputs": [],
   "source": [
    "feature_map = front(x)\n",
    "feature_map_rate2 = conv_with_dilation_rate2(feature_map)\n",
    "feature_map_rate4 = conv_with_dilation_rate4(feature_map)\n",
    "feature_map_rate8 = conv_with_dilation_rate8(feature_map)\n",
    "feature_map_rate16 = conv_with_dilation_rate16(feature_map)"
   ]
  },
  {
   "cell_type": "code",
   "execution_count": 163,
   "metadata": {},
   "outputs": [
    {
     "data": {
      "text/plain": [
       "<tf.Tensor 'concat_4:0' shape=(1, 14, 14, 2048) dtype=float32>"
      ]
     },
     "execution_count": 163,
     "metadata": {},
     "output_type": "execute_result"
    }
   ],
   "source": [
    "sppp = tf.concat([feature_map_rate2, feature_map_rate4, feature_map_rate8, feature_map_rate16], axis=3)\n",
    "sppp"
   ]
  },
  {
   "cell_type": "markdown",
   "metadata": {},
   "source": [
    "---"
   ]
  },
  {
   "cell_type": "markdown",
   "metadata": {},
   "source": [
    "# Quiz 7 : Building toy Unet\n",
    "\n",
    "![unet](simple_unet.png)\n",
    "\n",
    "## Instruction\n",
    "implement a simple U-Net module using `ds`, `upsample`, and `deconv` module"
   ]
  },
  {
   "cell_type": "code",
   "execution_count": 164,
   "metadata": {},
   "outputs": [],
   "source": [
    "def UNet_layer3(x):\n",
    "    \n",
    "    ds = layers.MaxPooling2D((2, 2))\n",
    "    upsample = layers.UpSampling2D((2, 2))\n",
    "    deconv = layers.Conv2DTranspose(3, (3, 3), activation='relu', strides=2, padding='same')\n",
    "    \n",
    "    out = ds(x)\n",
    "    out_up = upsample(out)\n",
    "    out_large = deconv(out)\n",
    "    out = tf.concat([out_up, out_large], axis=3)\n",
    "    return out"
   ]
  },
  {
   "cell_type": "code",
   "execution_count": 165,
   "metadata": {},
   "outputs": [
    {
     "data": {
      "text/plain": [
       "<tf.Tensor 'concat_5:0' shape=(1, 224, 224, 6) dtype=float32>"
      ]
     },
     "execution_count": 165,
     "metadata": {},
     "output_type": "execute_result"
    }
   ],
   "source": [
    "UNet_layer3(x)"
   ]
  },
  {
   "cell_type": "code",
   "execution_count": null,
   "metadata": {},
   "outputs": [],
   "source": []
  }
 ],
 "metadata": {
  "kernelspec": {
   "display_name": "Python 3",
   "language": "python",
   "name": "python3"
  },
  "language_info": {
   "codemirror_mode": {
    "name": "ipython",
    "version": 3
   },
   "file_extension": ".py",
   "mimetype": "text/x-python",
   "name": "python",
   "nbconvert_exporter": "python",
   "pygments_lexer": "ipython3",
   "version": "3.7.3"
  }
 },
 "nbformat": 4,
 "nbformat_minor": 2
}
